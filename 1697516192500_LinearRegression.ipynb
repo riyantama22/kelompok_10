{
 "cells": [
  {
   "cell_type": "code",
   "execution_count": 1,
   "id": "4ed4645e",
   "metadata": {},
   "outputs": [],
   "source": [
    "from pyspark.sql import SparkSession"
   ]
  },
  {
   "cell_type": "code",
   "execution_count": 2,
   "id": "a4e37a18",
   "metadata": {},
   "outputs": [],
   "source": [
    "spark = SparkSession.builder.appName(\"linearRegression\").getOrCreate()"
   ]
  },
  {
   "cell_type": "code",
   "execution_count": 3,
   "id": "eb8d6bed",
   "metadata": {},
   "outputs": [],
   "source": [
    "from pyspark.ml.regression import LinearRegression"
   ]
  },
  {
   "cell_type": "code",
   "execution_count": 4,
   "id": "9ebeabfb",
   "metadata": {},
   "outputs": [],
   "source": [
    "data = spark.read.csv('data_BCA.csv',inferSchema =True, header=True)"
   ]
  },
  {
   "cell_type": "code",
   "execution_count": 5,
   "id": "50479c72",
   "metadata": {},
   "outputs": [
    {
     "name": "stdout",
     "output_type": "stream",
     "text": [
      "root\n",
      " |-- Harga: integer (nullable = true)\n",
      " |-- Tertinggi: integer (nullable = true)\n",
      " |-- Terendah: integer (nullable = true)\n",
      " |-- Penutupan: integer (nullable = true)\n",
      " |-- Volume: integer (nullable = true)\n",
      " |-- Nilai: long (nullable = true)\n",
      " |-- Frekuensi: integer (nullable = true)\n",
      "\n"
     ]
    }
   ],
   "source": [
    "data.printSchema()"
   ]
  },
  {
   "cell_type": "code",
   "execution_count": 6,
   "id": "b84adc73",
   "metadata": {},
   "outputs": [
    {
     "name": "stdout",
     "output_type": "stream",
     "text": [
      "+-----+---------+--------+---------+---------+-------------+---------+\n",
      "|Harga|Tertinggi|Terendah|Penutupan|   Volume|        Nilai|Frekuensi|\n",
      "+-----+---------+--------+---------+---------+-------------+---------+\n",
      "| 9500|     9600|    9475|     9575| 85290100| 815474150000|    16850|\n",
      "| 9400|     9475|    9375|     9475| 77288400| 730505102500|    18289|\n",
      "| 9425|     9425|    9325|     9350| 34603300| 324210795000|    10016|\n",
      "| 9400|     9425|    9350|     9425| 30545200| 287338455000|    10764|\n",
      "| 9425|     9450|    9350|     9400| 79903400| 751898350000|    10689|\n",
      "| 9325|     9425|    9325|     9400| 70184600| 658943665000|    12600|\n",
      "| 9375|     9400|    9325|     9375| 72256600| 677203315000|    18093|\n",
      "| 9275|     9350|    9275|     9325| 64449600| 600423380000|    10116|\n",
      "| 9300|     9325|    9250|     9325| 88116700| 819722295000|    12694|\n",
      "| 9250|     9300|    9225|     9300| 72938100| 677012335000|    14437|\n",
      "| 9125|     9250|    9125|     9250| 87544300| 805286270000|    14148|\n",
      "| 9200|     9225|    9150|     9200|111712200|1027068330000|    16184|\n",
      "| 9125|     9225|    9075|     9225|275013500|2522311642500|    33984|\n",
      "| 8775|     9050|    8750|     9050|139383100|1246461712500|    24760|\n",
      "| 8700|     8750|    8675|     8675| 51560500| 448042352500|    15382|\n",
      "| 8700|     8750|    8700|     8700| 87589300| 763324475000|    16058|\n",
      "| 8675|     8775|    8675|     8750| 78642800| 686302160000|    19599|\n",
      "| 8800|     8850|    8750|     8750| 43891600| 385129775000|    14985|\n",
      "| 8750|     8825|    8725|     8825| 91322500| 801830380000|    23270|\n",
      "| 8850|     8950|    8800|     8800| 81852800| 723963235000|    18372|\n",
      "+-----+---------+--------+---------+---------+-------------+---------+\n",
      "only showing top 20 rows\n",
      "\n"
     ]
    }
   ],
   "source": [
    "data.show()"
   ]
  },
  {
   "cell_type": "code",
   "execution_count": 7,
   "id": "17901f20",
   "metadata": {},
   "outputs": [
    {
     "data": {
      "text/plain": [
       "Row(Harga=9500, Tertinggi=9600, Terendah=9475, Penutupan=9575, Volume=85290100, Nilai=815474150000, Frekuensi=16850)"
      ]
     },
     "execution_count": 7,
     "metadata": {},
     "output_type": "execute_result"
    }
   ],
   "source": [
    "data.head(1)[0]"
   ]
  },
  {
   "cell_type": "code",
   "execution_count": 8,
   "id": "988d3734",
   "metadata": {},
   "outputs": [
    {
     "name": "stdout",
     "output_type": "stream",
     "text": [
      "9500\n",
      "9600\n",
      "9475\n",
      "9575\n",
      "85290100\n",
      "815474150000\n",
      "16850\n"
     ]
    }
   ],
   "source": [
    "for item in data.head(1)[0]:\n",
    "    print(item)"
   ]
  },
  {
   "cell_type": "code",
   "execution_count": 9,
   "id": "7ca44bed",
   "metadata": {},
   "outputs": [],
   "source": [
    "from pyspark.ml.linalg import Vectors"
   ]
  },
  {
   "cell_type": "code",
   "execution_count": 10,
   "id": "740739af",
   "metadata": {},
   "outputs": [],
   "source": [
    "from pyspark.ml.feature import VectorAssembler"
   ]
  },
  {
   "cell_type": "code",
   "execution_count": 11,
   "id": "efe7d02e",
   "metadata": {},
   "outputs": [
    {
     "data": {
      "text/plain": [
       "['Harga', 'Tertinggi', 'Terendah', 'Penutupan', 'Volume', 'Nilai', 'Frekuensi']"
      ]
     },
     "execution_count": 11,
     "metadata": {},
     "output_type": "execute_result"
    }
   ],
   "source": [
    "data.columns"
   ]
  },
  {
   "cell_type": "code",
   "execution_count": 14,
   "id": "6e059f19",
   "metadata": {},
   "outputs": [],
   "source": [
    "assembler = VectorAssembler(inputCols=['Harga', 'Tertinggi', 'Terendah', 'Penutupan', 'Volume', 'Nilai', 'Frekuensi'],outputCol= 'features')"
   ]
  },
  {
   "cell_type": "code",
   "execution_count": 15,
   "id": "ed3f963b",
   "metadata": {},
   "outputs": [],
   "source": [
    "output = assembler.transform(data)"
   ]
  },
  {
   "cell_type": "code",
   "execution_count": 16,
   "id": "815ee0b0",
   "metadata": {},
   "outputs": [
    {
     "data": {
      "text/plain": [
       "[Row(Harga=9500, Tertinggi=9600, Terendah=9475, Penutupan=9575, Volume=85290100, Nilai=815474150000, Frekuensi=16850, features=DenseVector([9500.0, 9600.0, 9475.0, 9575.0, 85290100.0, 815474150000.0, 16850.0]))]"
      ]
     },
     "execution_count": 16,
     "metadata": {},
     "output_type": "execute_result"
    }
   ],
   "source": [
    "output.head(1)"
   ]
  },
  {
   "cell_type": "code",
   "execution_count": 17,
   "id": "2100b717",
   "metadata": {},
   "outputs": [],
   "source": [
    "final_data = output.select('features','penutupan')"
   ]
  },
  {
   "cell_type": "code",
   "execution_count": null,
   "id": "5033190a",
   "metadata": {},
   "outputs": [],
   "source": [
    "\n"
   ]
  },
  {
   "cell_type": "code",
   "execution_count": 18,
   "id": "477b2d8b",
   "metadata": {},
   "outputs": [
    {
     "name": "stdout",
     "output_type": "stream",
     "text": [
      "+--------------------+---------+\n",
      "|            features|penutupan|\n",
      "+--------------------+---------+\n",
      "|[9500.0,9600.0,94...|     9575|\n",
      "|[9400.0,9475.0,93...|     9475|\n",
      "|[9425.0,9425.0,93...|     9350|\n",
      "|[9400.0,9425.0,93...|     9425|\n",
      "|[9425.0,9450.0,93...|     9400|\n",
      "|[9325.0,9425.0,93...|     9400|\n",
      "|[9375.0,9400.0,93...|     9375|\n",
      "|[9275.0,9350.0,92...|     9325|\n",
      "|[9300.0,9325.0,92...|     9325|\n",
      "|[9250.0,9300.0,92...|     9300|\n",
      "|[9125.0,9250.0,91...|     9250|\n",
      "|[9200.0,9225.0,91...|     9200|\n",
      "|[9125.0,9225.0,90...|     9225|\n",
      "|[8775.0,9050.0,87...|     9050|\n",
      "|[8700.0,8750.0,86...|     8675|\n",
      "|[8700.0,8750.0,87...|     8700|\n",
      "|[8675.0,8775.0,86...|     8750|\n",
      "|[8800.0,8850.0,87...|     8750|\n",
      "|[8750.0,8825.0,87...|     8825|\n",
      "|[8850.0,8950.0,88...|     8800|\n",
      "+--------------------+---------+\n",
      "only showing top 20 rows\n",
      "\n"
     ]
    }
   ],
   "source": [
    "final_data.show()"
   ]
  },
  {
   "cell_type": "code",
   "execution_count": 20,
   "id": "9d9e7faa",
   "metadata": {},
   "outputs": [],
   "source": [
    "train_data, test_data = final_data.randomSplit([0.7,0.3])"
   ]
  },
  {
   "cell_type": "code",
   "execution_count": 21,
   "id": "158ac952",
   "metadata": {},
   "outputs": [
    {
     "name": "stdout",
     "output_type": "stream",
     "text": [
      "+-------+------------------+\n",
      "|summary|         penutupan|\n",
      "+-------+------------------+\n",
      "|  count|               657|\n",
      "|   mean| 18636.87214611872|\n",
      "| stddev|11547.329609421759|\n",
      "|    min|              7000|\n",
      "|    max|             36450|\n",
      "+-------+------------------+\n",
      "\n"
     ]
    }
   ],
   "source": [
    "train_data.describe().show()"
   ]
  },
  {
   "cell_type": "code",
   "execution_count": 22,
   "id": "7c9a85aa",
   "metadata": {},
   "outputs": [],
   "source": [
    "lr = LinearRegression(labelCol=\"penutupan\")"
   ]
  },
  {
   "cell_type": "code",
   "execution_count": 23,
   "id": "2966920f",
   "metadata": {},
   "outputs": [],
   "source": [
    "lr_model = lr.fit(train_data)"
   ]
  },
  {
   "cell_type": "code",
   "execution_count": 39,
   "id": "2e92e65e",
   "metadata": {},
   "outputs": [],
   "source": [
    "test_results = lr_model.evaluate(test_data)"
   ]
  },
  {
   "cell_type": "code",
   "execution_count": 43,
   "id": "6b547276",
   "metadata": {},
   "outputs": [
    {
     "data": {
      "image/png": "[encoded data removed]",
      "text/plain": [
       "<Figure size 640x480 with 1 Axes>"
      ]
     },
     "metadata": {},
     "output_type": "display_data"
    }
   ],
   "source": [
    "# Plot histogram residual\n",
    "residuals = test_results.residuals.toPandas()[\"residuals\"]\n",
    "\n",
    "# Buat histogram residual\n",
    "plt.hist(residuals, bins=20, color='blue', alpha=0.7)\n",
    "plt.xlabel('Residual Value')\n",
    "plt.ylabel('Frequency')\n",
    "plt.title('Histogram of Residuals')\n",
    "plt.show()\n",
    "\n"
   ]
  },
  {
   "cell_type": "code",
   "execution_count": 3,
   "id": "2add9c0c",
   "metadata": {},
   "outputs": [
    {
     "ename": "NameError",
     "evalue": "name 'y' is not defined",
     "output_type": "error",
     "traceback": [
      "\u001b[1;31m---------------------------------------------------------------------------\u001b[0m",
      "\u001b[1;31mNameError\u001b[0m                                 Traceback (most recent call last)",
      "Cell \u001b[1;32mIn[3], line 7\u001b[0m\n\u001b[0;32m      3\u001b[0m \u001b[38;5;28;01mimport\u001b[39;00m \u001b[38;5;21;01mscipy\u001b[39;00m\u001b[38;5;21;01m.\u001b[39;00m\u001b[38;5;21;01mstats\u001b[39;00m \u001b[38;5;28;01mas\u001b[39;00m \u001b[38;5;21;01mstats\u001b[39;00m\n\u001b[0;32m      5\u001b[0m \u001b[38;5;66;03m# Assuming you have a model named 'model' and test data named 'test_data'\u001b[39;00m\n\u001b[0;32m      6\u001b[0m \u001b[38;5;66;03m# Fit a linear regression model and get residuals\u001b[39;00m\n\u001b[1;32m----> 7\u001b[0m model \u001b[38;5;241m=\u001b[39m sm\u001b[38;5;241m.\u001b[39mOLS(y, X)\u001b[38;5;241m.\u001b[39mfit()\n\u001b[0;32m      8\u001b[0m residuals \u001b[38;5;241m=\u001b[39m model\u001b[38;5;241m.\u001b[39mresid\n\u001b[0;32m     10\u001b[0m \u001b[38;5;66;03m# Create Q-Q plot\u001b[39;00m\n",
      "\u001b[1;31mNameError\u001b[0m: name 'y' is not defined"
     ]
    }
   ],
   "source": []
  },
  {
   "cell_type": "code",
   "execution_count": 45,
   "id": "36db50ca",
   "metadata": {},
   "outputs": [
    {
     "data": {
      "image/png": "[encoded data removed]",
      "text/plain": [
       "<Figure size 640x480 with 1 Axes>"
      ]
     },
     "metadata": {},
     "output_type": "display_data"
    }
   ],
   "source": [
    "import statsmodels.api as sm\n",
    "import matplotlib.pyplot as plt\n",
    "\n",
    "# Q-Q plot for residuals\n",
    "sm.qqplot(residuals, line='s', alpha=0.7)\n",
    "plt.title('Q-Q Plot of Residuals')\n",
    "plt.show()"
   ]
  },
  {
   "cell_type": "code",
   "execution_count": 25,
   "id": "defe1430",
   "metadata": {},
   "outputs": [
    {
     "name": "stdout",
     "output_type": "stream",
     "text": [
      "+--------------------+\n",
      "|           residuals|\n",
      "+--------------------+\n",
      "|5.456968210637569...|\n",
      "|8.076312951743603...|\n",
      "|-1.23691279441118...|\n",
      "|-6.91215973347425...|\n",
      "|4.401954356580972...|\n",
      "|1.127773430198431...|\n",
      "|-1.81898940354585...|\n",
      "|-4.40195435658097...|\n",
      "|-2.76486389338970...|\n",
      "|-5.45696821063756...|\n",
      "|2.000888343900442...|\n",
      "|3.528839442878961...|\n",
      "|1.455191522836685...|\n",
      "|-2.29192664846777...|\n",
      "|7.275957614183426...|\n",
      "|5.093170329928398...|\n",
      "|2.655724529176950...|\n",
      "|1.382431946694851...|\n",
      "|3.456079866737127...|\n",
      "|2.619344741106033...|\n",
      "+--------------------+\n",
      "only showing top 20 rows\n",
      "\n"
     ]
    }
   ],
   "source": [
    "test_results.residuals.show()"
   ]
  },
  {
   "cell_type": "code",
   "execution_count": 26,
   "id": "16b21560",
   "metadata": {},
   "outputs": [
    {
     "data": {
      "text/plain": [
       "1.6096535378142596e-10"
      ]
     },
     "execution_count": 26,
     "metadata": {},
     "output_type": "execute_result"
    }
   ],
   "source": [
    "test_results.rootMeanSquaredError"
   ]
  },
  {
   "cell_type": "code",
   "execution_count": 27,
   "id": "20edea41",
   "metadata": {},
   "outputs": [
    {
     "data": {
      "text/plain": [
       "1.0"
      ]
     },
     "execution_count": 27,
     "metadata": {},
     "output_type": "execute_result"
    }
   ],
   "source": [
    "test_results.r2"
   ]
  },
  {
   "cell_type": "code",
   "execution_count": 28,
   "id": "210d9c39",
   "metadata": {},
   "outputs": [
    {
     "name": "stdout",
     "output_type": "stream",
     "text": [
      "+-------+-----------------+\n",
      "|summary|        penutupan|\n",
      "+-------+-----------------+\n",
      "|  count|              979|\n",
      "|   mean|18486.87436159346|\n",
      "| stddev|11517.48987150549|\n",
      "|    min|             7000|\n",
      "|    max|            36725|\n",
      "+-------+-----------------+\n",
      "\n"
     ]
    }
   ],
   "source": [
    "final_data.describe().show()"
   ]
  },
  {
   "cell_type": "code",
   "execution_count": 29,
   "id": "2f29107c",
   "metadata": {},
   "outputs": [],
   "source": [
    "unlabeled_data = test_data.select('features')"
   ]
  },
  {
   "cell_type": "code",
   "execution_count": 30,
   "id": "fc093235",
   "metadata": {},
   "outputs": [
    {
     "name": "stdout",
     "output_type": "stream",
     "text": [
      "+--------------------+\n",
      "|            features|\n",
      "+--------------------+\n",
      "|[0.0,24800.0,2340...|\n",
      "|[0.0,24975.0,2225...|\n",
      "|[0.0,25000.0,2427...|\n",
      "|[0.0,25100.0,2427...|\n",
      "|[0.0,25700.0,2460...|\n",
      "|[0.0,25850.0,2542...|\n",
      "|[0.0,26175.0,2522...|\n",
      "|[0.0,26250.0,2440...|\n",
      "|[0.0,26500.0,2500...|\n",
      "|[0.0,26600.0,2500...|\n",
      "|[0.0,26900.0,2382...|\n",
      "|[0.0,26925.0,2162...|\n",
      "|[0.0,27000.0,2575...|\n",
      "|[0.0,27225.0,2640...|\n",
      "|[0.0,27350.0,2680...|\n",
      "|[0.0,27500.0,2620...|\n",
      "|[0.0,27500.0,2665...|\n",
      "|[0.0,28250.0,2772...|\n",
      "|[0.0,28700.0,2792...|\n",
      "|[0.0,28800.0,2820...|\n",
      "+--------------------+\n",
      "only showing top 20 rows\n",
      "\n"
     ]
    }
   ],
   "source": [
    "unlabeled_data.show()"
   ]
  },
  {
   "cell_type": "code",
   "execution_count": 31,
   "id": "2761485a",
   "metadata": {},
   "outputs": [],
   "source": [
    "predictions = lr_model.transform(unlabeled_data)"
   ]
  },
  {
   "cell_type": "code",
   "execution_count": 32,
   "id": "e838f0c2",
   "metadata": {
    "scrolled": true
   },
   "outputs": [
    {
     "name": "stdout",
     "output_type": "stream",
     "text": [
      "+--------------------+------------------+\n",
      "|            features|        prediction|\n",
      "+--------------------+------------------+\n",
      "|[0.0,24800.0,2340...|23399.999999999454|\n",
      "|[0.0,24975.0,2225...|22499.999999999192|\n",
      "|[0.0,25000.0,2427...|24825.000000000124|\n",
      "|[0.0,25100.0,2427...| 24800.00000000007|\n",
      "|[0.0,25700.0,2460...| 24599.99999999956|\n",
      "|[0.0,25850.0,2542...|25549.999999999887|\n",
      "|[0.0,26175.0,2522...| 25725.00000000002|\n",
      "|[0.0,26250.0,2440...| 25850.00000000044|\n",
      "|[0.0,26500.0,2500...|26100.000000000276|\n",
      "|[0.0,26600.0,2500...|26475.000000000546|\n",
      "|[0.0,26900.0,2382...|  24999.9999999998|\n",
      "|[0.0,26925.0,2162...|23674.999999999647|\n",
      "|[0.0,27000.0,2575...|26224.999999999854|\n",
      "|[0.0,27225.0,2640...| 27125.00000000023|\n",
      "|[0.0,27350.0,2680...|27049.999999999927|\n",
      "|[0.0,27500.0,2620...| 26799.99999999995|\n",
      "|[0.0,27500.0,2665...|26774.999999999734|\n",
      "|[0.0,28250.0,2772...| 27874.99999999986|\n",
      "|[0.0,28700.0,2792...|27924.999999999654|\n",
      "|[0.0,28800.0,2820...|28224.999999999738|\n",
      "+--------------------+------------------+\n",
      "only showing top 20 rows\n",
      "\n"
     ]
    }
   ],
   "source": [
    "predictions.show()"
   ]
  },
  {
   "cell_type": "code",
   "execution_count": null,
   "id": "8a3edd91",
   "metadata": {},
   "outputs": [],
   "source": []
  }
 ],
 "metadata": {
  "kernelspec": {
   "display_name": "Python 3 (ipykernel)",
   "language": "python",
   "name": "python3"
  },
  "language_info": {
   "codemirror_mode": {
    "name": "ipython",
    "version": 3
   },
   "file_extension": ".py",
   "mimetype": "text/x-python",
   "name": "python",
   "nbconvert_exporter": "python",
   "pygments_lexer": "ipython3",
   "version": "3.11.4"
  }
 },
 "nbformat": 4,
 "nbformat_minor": 5
}
